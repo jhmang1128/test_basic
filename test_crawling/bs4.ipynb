{
 "cells": [
  {
   "cell_type": "code",
   "execution_count": 55,
   "metadata": {},
   "outputs": [
    {
     "data": {
      "text/plain": [
       "True"
      ]
     },
     "execution_count": 55,
     "metadata": {},
     "output_type": "execute_result"
    }
   ],
   "source": [
    "import requests\n",
    "from bs4 import BeautifulSoup\n",
    "import os"
   ]
  },
  {
   "cell_type": "markdown",
   "metadata": {},
   "source": [
    "문제 크롤링\n",
    "\n",
    "일단 랜덤 생성 - 사용자의 기호를 고려하려면 뒷단까지 해결해야할 가능성이 큼\n",
    "\n",
    "문제를 보여줄 방식 - 웹 사이트 url 전달 or 다른 GUI 인터페이스를 통해 제공 ex. md"
   ]
  },
  {
   "cell_type": "code",
   "execution_count": null,
   "metadata": {},
   "outputs": [],
   "source": [
    "html = requests.get('https://school.programmers.co.kr/learn/challenges?order=recent').text\n",
    "html_soup = BeautifulSoup(html, 'html.parser')\n",
    "\n",
    "html_soup\n",
    "\n",
    "with open('./log/log_01.txt', 'w') as wf:\n",
    "    print(html_soup, file = wf)\n",
    "    \n",
    "\n",
    "html = requests.get('https://d1nuzc1w51n1es.cloudfront.net/801b180ea323dd7de5c7.js').text\n",
    "html_soup = BeautifulSoup(html, 'js.parser')\n",
    "\n",
    "html_soup"
   ]
  },
  {
   "cell_type": "code",
   "execution_count": null,
   "metadata": {},
   "outputs": [],
   "source": [
    "for tr_tag in soup.find(id='chartListObj').find_all('tr'):\n",
    "    tag = tr_tag.find(class_='wrap_song_info')\n",
    "    if tag:\n",
    "        tag_sub_list = tag.find_all(href=lambda value: (value and 'playSong' in value))\n",
    "        tag_list.extend(tag_sub_list)\n",
    "for idx, tag in enumerate(tag_list, 1):\n",
    "    print(idx, tag.text)"
   ]
  },
  {
   "cell_type": "code",
   "execution_count": null,
   "metadata": {},
   "outputs": [],
   "source": [
    "# 타겟 URL\n",
    "base_url = \"https://school.programmers.co.kr/learn/challenges\"\n",
    "params = {\"order\": \"recent\", \"page\": 1}\n",
    "\n",
    "# 문제 URL 저장 리스트\n",
    "problem_urls = []\n",
    "\n",
    "\n",
    "while True:\n",
    "    # GET 요청\n",
    "    response = requests.get(base_url, params=params)\n",
    "    if response.status_code != 200:\n",
    "        print(\"Failed to fetch the page.\")\n",
    "        break\n",
    "\n",
    "    # HTML 파싱\n",
    "    soup = BeautifulSoup(response.text, \"html.parser\")\n",
    "\n",
    "    # 문제 링크 찾기\n",
    "    links = soup.select(\"a.challenge-card-link\")  # 문제 링크의 CSS 선택자\n",
    "    if not links:  # 더 이상 문제가 없으면 종료\n",
    "        break\n",
    "\n",
    "    # 링크 추가\n",
    "    for link in links:\n",
    "        problem_urls.append(\"https://school.programmers.co.kr\" + link[\"href\"])\n",
    "\n",
    "    # 다음 페이지로 이동\n",
    "    params[\"page\"] += 1\n",
    "\n",
    "# 결과 출력\n",
    "print(f\"총 {len(problem_urls)}개의 문제 URL을 찾았습니다.\")\n",
    "for url in problem_urls:\n",
    "    print(url)"
   ]
  },
  {
   "cell_type": "markdown",
   "metadata": {},
   "source": [
    "코드 평가 방법\n",
    "python 답끼리 비교\n",
    "sql의 경우 실제 table 결과 비교 필요\n",
    "\n",
    "결국 답을 가지고 있어야함"
   ]
  },
  {
   "cell_type": "markdown",
   "metadata": {},
   "source": [
    "주제에 맞는 코드 - sql, python 과 같은 카테고리 검색 구현? - tools \n",
    "\n",
    "백준? 같은 다른 사이트에서 추가?"
   ]
  }
 ],
 "metadata": {
  "kernelspec": {
   "display_name": "langgraph_env",
   "language": "python",
   "name": "python3"
  },
  "language_info": {
   "codemirror_mode": {
    "name": "ipython",
    "version": 3
   },
   "file_extension": ".py",
   "mimetype": "text/x-python",
   "name": "python",
   "nbconvert_exporter": "python",
   "pygments_lexer": "ipython3",
   "version": "3.11.11"
  }
 },
 "nbformat": 4,
 "nbformat_minor": 2
}
