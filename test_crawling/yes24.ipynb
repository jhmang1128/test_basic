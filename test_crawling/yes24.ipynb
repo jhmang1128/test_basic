{
 "cells": [
  {
   "cell_type": "markdown",
   "metadata": {},
   "source": [
    "# YES 24"
   ]
  },
  {
   "cell_type": "code",
   "execution_count": null,
   "metadata": {},
   "outputs": [],
   "source": [
    "import requests\n",
    "from bs4 import BeautifulSoup\n",
    "\n",
    "base_url = \"https://www.yes24.com\"\n",
    "data = []"
   ]
  },
  {
   "cell_type": "code",
   "execution_count": null,
   "metadata": {},
   "outputs": [],
   "source": [
    "for i in range(1, 5):\n",
    "    response = requests.get(\n",
    "        f\"https://www.yes24.com/Product/Category/AttentionNewProduct?pageNumber={i}\"\n",
    "    )\n",
    "    html = response.text\n",
    "    soup = BeautifulSoup(html, \"html.parser\")\n",
    "    books = soup.select(\".item_info\")\n",
    "\n",
    "    for book in books:\n",
    "        # [도서]인 경우만 크롤링\n",
    "        category_element = book.select_one(\".gd_res\")\n",
    "        if not category_element or \"[도서]\" not in category_element.text:\n",
    "            continue  # 도서가 아니면 건너뜀\n",
    "\n",
    "        # 제목\n",
    "        title_element = book.select_one(\"a.gd_name\")\n",
    "        title = title_element.text.strip() if title_element else \"제목 없음\"\n",
    "\n",
    "        detail_url = base_url + title_element[\"href\"] if title_element else None\n",
    "\n",
    "        # 저자, 출판사, 출판일 정보\n",
    "        author_element = book.select_one(\n",
    "            \"div.info_row.info_pubGrp > span.info_auth > a:not(.moreAuthArea a)\"\n",
    "        )\n",
    "        author = author_element.text.strip() if author_element else \"저자 없음\"\n",
    "\n",
    "        publisher_element = book.select_one(\n",
    "            \"div.info_row.info_pubGrp > span:nth-of-type(2)\"\n",
    "        )\n",
    "        publisher = (\n",
    "            publisher_element.text.strip() if publisher_element else \"출판사 없음\"\n",
    "        )\n",
    "\n",
    "        pub_date_element = book.select_one(\n",
    "            \"div.info_row.info_pubGrp > span:nth-of-type(3)\"\n",
    "        )\n",
    "        pub_date = pub_date_element.text.strip() if pub_date_element else \"출판일 없음\"\n",
    "\n",
    "        # description 가져오기\n",
    "        description_element = book.select_one(\"div.info_row.info_read\")\n",
    "        description = \"설명 없음\"\n",
    "\n",
    "        if description_element:\n",
    "            if detail_url:\n",
    "                detail_response = requests.get(detail_url)\n",
    "                detail_soup = BeautifulSoup(detail_response.text, \"html.parser\")\n",
    "\n",
    "                # 책 소개 긁어오기\n",
    "                detail_description = detail_soup.select_one(\"textarea.txtContentText\")\n",
    "                description = (\n",
    "                    detail_description.text.strip()\n",
    "                    if detail_description\n",
    "                    else \"설명 없음\"\n",
    "                )\n",
    "\n",
    "        print(title, author, publisher, pub_date, description)\n",
    "        data.append([title, author, publisher, pub_date, description])\n"
   ]
  },
  {
   "cell_type": "markdown",
   "metadata": {},
   "source": [
    "#### save"
   ]
  },
  {
   "cell_type": "code",
   "execution_count": null,
   "metadata": {},
   "outputs": [],
   "source": [
    "import pandas as pd\n",
    "\n",
    "df = pd.DataFrame(data, columns=[\"title\", \"author\", \"publisher\", \"pub_date\", \"description\"])\n",
    "df.to_excel(\"result.xlsx\", index=False)"
   ]
  }
 ],
 "metadata": {
  "kernelspec": {
   "display_name": "bookgroo",
   "language": "python",
   "name": "python3"
  },
  "language_info": {
   "codemirror_mode": {
    "name": "ipython",
    "version": 3
   },
   "file_extension": ".py",
   "mimetype": "text/x-python",
   "name": "python",
   "nbconvert_exporter": "python",
   "pygments_lexer": "ipython3",
   "version": "3.10.16"
  }
 },
 "nbformat": 4,
 "nbformat_minor": 2
}
