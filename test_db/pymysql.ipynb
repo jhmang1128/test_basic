{
 "cells": [
  {
   "cell_type": "code",
   "execution_count": null,
   "metadata": {},
   "outputs": [],
   "source": [
    "import pymysql\n",
    "\n",
    "from dotenv import load_dotenv\n",
    "import os\n",
    "\n",
    "\n",
    "#### load keys\n",
    "load_dotenv()\n",
    "ROOT_DIR = os.getenv(\"ROOT_DIR\")\n",
    "\n",
    "sql_host = os.getenv(\"sql_host\")\n",
    "sql_user = os.getenv(\"sql_user\")\n",
    "sql_password = os.getenv(\"sql_password\")"
   ]
  },
  {
   "cell_type": "code",
   "execution_count": null,
   "metadata": {},
   "outputs": [],
   "source": [
    "#### 연결\n",
    "conn = pymysql.connect(host=sql_host,\n",
    "                       user=sql_user,\n",
    "                       password=sql_password,\n",
    "                       db='world',\n",
    "                       charset='utf8')\n",
    "\n",
    "cur = conn.cursor()"
   ]
  },
  {
   "cell_type": "code",
   "execution_count": null,
   "metadata": {},
   "outputs": [],
   "source": [
    "#### 쿼리\n",
    "cur.execute(\"DROP TABLE userTable\")\n",
    "cur.execute(\"CREATE TABLE userTable (id char(4), userName char(15), email char(20), birthYear int)\")"
   ]
  }
 ],
 "metadata": {
  "kernelspec": {
   "display_name": "python_3_12",
   "language": "python",
   "name": "python_3_12"
  },
  "language_info": {
   "name": "python",
   "version": "3.12.7"
  }
 },
 "nbformat": 4,
 "nbformat_minor": 2
}
