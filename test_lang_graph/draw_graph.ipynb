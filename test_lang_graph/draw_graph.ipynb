{
 "cells": [
  {
   "cell_type": "code",
   "execution_count": null,
   "metadata": {},
   "outputs": [],
   "source": [
    "from graphviz import Digraph\n",
    "\n",
    "#### 상태 그래프 정의\n",
    "dot = Digraph()\n",
    "\n",
    "#### 노드 추가\n",
    "dot.node(\"START\", \"START\", shape=\"circle\")\n",
    "dot.node(\"increment\", \"Increment Counter\", shape=\"box\")\n",
    "dot.node(\"END\", \"END\", shape=\"doublecircle\")\n",
    "\n",
    "#### 엣지 추가\n",
    "dot.edge(\"START\", \"increment\")\n",
    "dot.edge(\"increment\", \"END\")\n",
    "\n",
    "#### 그래프 출력\n",
    "dot.render(\"state_graph\", format=\"png\", cleanup=True)  # PNG 파일로 저장\n",
    "dot.view()  # 디폴트 뷰어에서 열기"
   ]
  },
  {
   "cell_type": "code",
   "execution_count": 8,
   "metadata": {},
   "outputs": [],
   "source": [
    "def stategraph_to_graphviz(stategraph, start_label=\"START\", end_label=\"END\"):\n",
    "    \"\"\"\n",
    "    StateGraph 객체를 Graphviz 형식으로 변환.\n",
    "    \n",
    "    Parameters:\n",
    "        stategraph: StateGraph 객체 (가상의 데이터 구조 사용).\n",
    "        start_label (str): 시작 노드의 라벨.\n",
    "        end_label (str): 종료 노드의 라벨.\n",
    "    Returns:\n",
    "        Digraph: Graphviz의 Digraph 객체.\n",
    "    \"\"\"\n",
    "    dot = Digraph()\n",
    "    \n",
    "    # 상태 그래프에서 노드와 엣지 추출\n",
    "    nodes = stategraph.get_nodes()  # 노드 리스트 가져오기\n",
    "    edges = stategraph.get_edges()  # 엣지 리스트 가져오기\n",
    "\n",
    "    # 노드 추가\n",
    "    for node in nodes:\n",
    "        shape = \"circle\" if node in (start_label, end_label) else \"box\"\n",
    "        dot.node(node, node, shape=shape)\n",
    "    \n",
    "    # 엣지 추가\n",
    "    for src, dst in edges:\n",
    "        dot.edge(src, dst)\n",
    "\n",
    "    return dot"
   ]
  }
 ],
 "metadata": {
  "kernelspec": {
   "display_name": "langgraph_env",
   "language": "python",
   "name": "python3"
  },
  "language_info": {
   "codemirror_mode": {
    "name": "ipython",
    "version": 3
   },
   "file_extension": ".py",
   "mimetype": "text/x-python",
   "name": "python",
   "nbconvert_exporter": "python",
   "pygments_lexer": "ipython3",
   "version": "3.11.11"
  }
 },
 "nbformat": 4,
 "nbformat_minor": 2
}
