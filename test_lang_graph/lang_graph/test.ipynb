{
 "cells": [
  {
   "cell_type": "code",
   "execution_count": 55,
   "metadata": {},
   "outputs": [
    {
     "data": {
      "text/plain": [
       "True"
      ]
     },
     "execution_count": 55,
     "metadata": {},
     "output_type": "execute_result"
    }
   ],
   "source": [
    "from dotenv import load_dotenv\n",
    "from langchain.chat_models import ChatOpenAI\n",
    "from langchain.schema import HumanMessage\n",
    "from langgraph.graph import StateGraph, START, END\n",
    "from typing import TypedDict\n",
    "\n",
    "# .env 파일에서 환경 변수 로드\n",
    "load_dotenv()"
   ]
  },
  {
   "cell_type": "code",
   "execution_count": 56,
   "metadata": {},
   "outputs": [],
   "source": [
    "#### GPT-4o-mini 설정\n",
    "gpt4o_mini = ChatOpenAI(\n",
    "    model_name=\"gpt-4o-mini\",  # GPT-4o-mini에 해당하는 모델명\n",
    "    temperature=0.7,\n",
    "    max_tokens=150,\n",
    ")\n",
    "\n",
    "#### GPT-4o 설정\n",
    "gpt4o = ChatOpenAI(\n",
    "    model_name=\"gpt-4o\",  # GPT-4o에 해당하는 모델명\n",
    "    temperature=0.7,\n",
    "    max_tokens=300,\n",
    ")"
   ]
  },
  {
   "cell_type": "code",
   "execution_count": 4,
   "metadata": {},
   "outputs": [
    {
     "name": "stdout",
     "output_type": "stream",
     "text": [
      "안녕하세요! 저는 잘 지내고 있어요. 당신은 어떠신가요? 도움이 필요하시면 언제든지 말씀해 주세요! \n",
      "\n",
      "\n"
     ]
    }
   ],
   "source": [
    "#### GPT-4o-mini 사용 예시\n",
    "response_mini = gpt4o_mini.invoke([HumanMessage(content=\"안녕 넌 어때?\")])\n",
    "print(response_mini.content, '\\n\\n')"
   ]
  },
  {
   "cell_type": "code",
   "execution_count": 53,
   "metadata": {},
   "outputs": [],
   "source": [
    "#### 그래프\n",
    "class MyState(TypedDict): # 그래프의 상태를 정의하는 클래스\n",
    "    user_question: str\n",
    "    counter: int\n",
    "    answer: str\n",
    "\n",
    "graph = StateGraph(MyState) # StateGraph 인스턴스 생성\n",
    "\n",
    "\n",
    "#### 노드\n",
    "def cnt_p_1(state): # 카운터 1 증가\n",
    "    \n",
    "    return {\"counter\": state[\"counter\"] + 1}\n",
    "\n",
    "\n",
    "def cnt_m_1(state): # 카운터 1 증가\n",
    "    \n",
    "    return {\"counter\": state[\"counter\"] - 1}\n",
    "\n",
    "\n",
    "def question_to_model(state):\n",
    "    response_mini = 500\n",
    "    \n",
    "    return {\"answer\": response_mini}\n",
    "\n",
    "\n",
    "def check_question(state):\n",
    "    print('condition_function :', check_question, state[\"answer\"])\n",
    "    if state[\"answer\"] < 50:\n",
    "        print(50)\n",
    "        return 50\n",
    "    elif state[\"answer\"] < 100: \n",
    "        print(100)\n",
    "        return 100\n",
    "    elif state[\"answer\"] < 200:\n",
    "        print(200)\n",
    "        return 200\n",
    "    else:\n",
    "        print(999)\n",
    "        return 999\n",
    "        \n",
    "\n",
    "\n",
    "graph.add_node(\"cnt_p_1\", cnt_p_1)\n",
    "graph.add_node(\"cnt_m_1\", cnt_m_1)\n",
    "graph.add_node(\"question_to_model\", question_to_model)\n",
    "graph.add_node(\"check_question\", check_question)\n",
    "\n",
    "\n",
    "#### 엣지\n",
    "graph.add_edge(START, \"question_to_model\")\n",
    "\n",
    "graph.add_conditional_edges(\n",
    "                \"question_to_model\",\n",
    "                check_question,\n",
    "                {\n",
    "                    50: \"cnt_p_1\",\n",
    "                    100: \"cnt_m_1\",\n",
    "                    200: \"cnt_m_1\",\n",
    "                    999: END\n",
    "                })\n"
   ]
  },
  {
   "cell_type": "code",
   "execution_count": 62,
   "metadata": {},
   "outputs": [
    {
     "name": "stdout",
     "output_type": "stream",
     "text": [
      "{'user_question': '코드 프로그래머스 웹 사이트에서 sql과 관련된 문제 하나만 가져와줄래?', 'counter': 0, 'answer': AIMessage(content='프로그래머스 웹사이트에서 SQL 관련 문제를 직접 가져올 수는 없지만, SQL 문제의 예시를 제공해드릴 수 있습니다. 아래는 SQL 문제의 예시입니다.\\n\\n### 문제: 직원의 급여 정보\\n\\n**설명:**\\n`Employees`라는 테이블이 있습니다. 이 테이블은 다음과 같은 열을 가집니다:\\n\\n- `id` (INT): 직원의 고유 ID\\n- `name` (VARCHAR): 직원의 이름\\n- `salary` (INT): 직원의 급여\\n- `department_id` (INT): 직원이 속한 부서의 ID\\n\\n부서별로 평균 급여를 구하는 SQL 쿼리를 작성하세요. 결과', additional_kwargs={}, response_metadata={'token_usage': {'completion_tokens': 150, 'prompt_tokens': 28, 'total_tokens': 178, 'completion_tokens_details': {'accepted_prediction_tokens': 0, 'audio_tokens': 0, 'reasoning_tokens': 0, 'rejected_prediction_tokens': 0}, 'prompt_tokens_details': {'audio_tokens': 0, 'cached_tokens': 0}}, 'model_name': 'gpt-4o-mini', 'system_fingerprint': 'fp_0aa8d3e20b', 'finish_reason': 'length', 'logprobs': None}, id='run-76180fda-798b-44fe-8cae-90f6eeedf6e8-0')}\n"
     ]
    }
   ],
   "source": [
    "#### 그래프 컴파일\n",
    "app = graph.compile()\n",
    "\n",
    "\n",
    "\n",
    "#### 그래프 실행\n",
    "user_question = '코드 프로그래머스 웹 사이트에서 sql과 관련된 문제 하나만 가져와줄래?'\n",
    "counter = 0\n",
    "answer = ''\n",
    "\n",
    "\n",
    "result = app.invoke({\"user_question\": user_question, \"counter\": counter, \"answer\": answer})\n",
    "print(result)"
   ]
  },
  {
   "cell_type": "code",
   "execution_count": null,
   "metadata": {},
   "outputs": [],
   "source": []
  },
  {
   "cell_type": "code",
   "execution_count": null,
   "metadata": {},
   "outputs": [],
   "source": [
    "from graphviz import Digraph\n",
    "\n",
    "# 상태 그래프 정의\n",
    "dot = Digraph()\n",
    "\n",
    "# 노드 추가\n",
    "dot.node(\"START\", \"START\", shape=\"circle\")\n",
    "dot.node(\"increment\", \"Increment Counter\", shape=\"box\")\n",
    "dot.node(\"END\", \"END\", shape=\"doublecircle\")\n",
    "\n",
    "# 엣지 추가\n",
    "dot.edge(\"START\", \"increment\")\n",
    "dot.edge(\"increment\", \"END\")\n",
    "\n",
    "# 그래프 출력\n",
    "dot.render(\"state_graph\", format=\"png\", cleanup=True)  # PNG 파일로 저장\n",
    "dot.view()  # 디폴트 뷰어에서 열기"
   ]
  },
  {
   "cell_type": "code",
   "execution_count": 8,
   "metadata": {},
   "outputs": [],
   "source": [
    "def stategraph_to_graphviz(stategraph, start_label=\"START\", end_label=\"END\"):\n",
    "    \"\"\"\n",
    "    StateGraph 객체를 Graphviz 형식으로 변환.\n",
    "    \n",
    "    Parameters:\n",
    "        stategraph: StateGraph 객체 (가상의 데이터 구조 사용).\n",
    "        start_label (str): 시작 노드의 라벨.\n",
    "        end_label (str): 종료 노드의 라벨.\n",
    "    Returns:\n",
    "        Digraph: Graphviz의 Digraph 객체.\n",
    "    \"\"\"\n",
    "    dot = Digraph()\n",
    "    \n",
    "    # 상태 그래프에서 노드와 엣지 추출\n",
    "    nodes = stategraph.get_nodes()  # 노드 리스트 가져오기\n",
    "    edges = stategraph.get_edges()  # 엣지 리스트 가져오기\n",
    "\n",
    "    # 노드 추가\n",
    "    for node in nodes:\n",
    "        shape = \"circle\" if node in (start_label, end_label) else \"box\"\n",
    "        dot.node(node, node, shape=shape)\n",
    "    \n",
    "    # 엣지 추가\n",
    "    for src, dst in edges:\n",
    "        dot.edge(src, dst)\n",
    "\n",
    "    return dot"
   ]
  }
 ],
 "metadata": {
  "kernelspec": {
   "display_name": "langgraph_env",
   "language": "python",
   "name": "python3"
  },
  "language_info": {
   "codemirror_mode": {
    "name": "ipython",
    "version": 3
   },
   "file_extension": ".py",
   "mimetype": "text/x-python",
   "name": "python",
   "nbconvert_exporter": "python",
   "pygments_lexer": "ipython3",
   "version": "3.11.11"
  }
 },
 "nbformat": 4,
 "nbformat_minor": 2
}
