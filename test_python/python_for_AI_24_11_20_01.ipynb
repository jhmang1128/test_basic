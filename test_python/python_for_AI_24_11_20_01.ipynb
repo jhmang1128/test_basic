{
 "cells": [
  {
   "cell_type": "code",
   "execution_count": null,
   "metadata": {},
   "outputs": [],
   "source": [
    "import math\n",
    "import random\n",
    "# import json"
   ]
  },
  {
   "cell_type": "code",
   "execution_count": null,
   "metadata": {},
   "outputs": [],
   "source": [
    "######## part 1 - 주어진 값 몇 번 등장 카운트\n",
    "numbers = [1, 2, 3, 4, 2, 2, 5, 2]\n",
    "value_to_find = 2\n",
    "count = 0\n",
    "\n",
    "for i in  range(len(numbers)):\n",
    "    if numbers[i] == value_to_find:\n",
    "        count += 1\n",
    "\n",
    "print(\"카운트\", count)\n",
    "print(\"\\n\")\n"
   ]
  },
  {
   "cell_type": "code",
   "execution_count": null,
   "metadata": {},
   "outputs": [],
   "source": [
    "######## part 2 - 리스트의 모든 값 합산\n",
    "numbers = [10, 20, 30, 40, 50]\n",
    "total_sum = 0\n",
    "\n",
    "for i in numbers:\n",
    "    total_sum += i\n",
    "print(\"합계\", total_sum)\n",
    "print(\"\\n\")\n",
    "\n",
    "\n",
    "# part 3 - 팩토리얼\n",
    "num = math.factorial(5)        \n",
    "print(\"팩토리얼\", num)\n",
    "print(\"\\n\")"
   ]
  },
  {
   "cell_type": "code",
   "execution_count": 2,
   "metadata": {},
   "outputs": [
    {
     "data": {
      "text/plain": [
       "2"
      ]
     },
     "execution_count": 2,
     "metadata": {},
     "output_type": "execute_result"
    }
   ],
   "source": [
    "a = 0 or 2\n",
    "a"
   ]
  }
 ],
 "metadata": {
  "kernelspec": {
   "display_name": "python_3_12",
   "language": "python",
   "name": "python_3_12"
  },
  "language_info": {
   "codemirror_mode": {
    "name": "ipython",
    "version": 3
   },
   "file_extension": ".py",
   "mimetype": "text/x-python",
   "name": "python",
   "nbconvert_exporter": "python",
   "pygments_lexer": "ipython3",
   "version": "3.12.7"
  }
 },
 "nbformat": 4,
 "nbformat_minor": 2
}
