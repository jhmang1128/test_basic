{
 "cells": [
  {
   "cell_type": "code",
   "execution_count": null,
   "metadata": {},
   "outputs": [],
   "source": [
    "import math\n",
    "import random\n",
    "# import json"
   ]
  },
  {
   "cell_type": "code",
   "execution_count": null,
   "metadata": {},
   "outputs": [],
   "source": [
    "######## 응용 1\n",
    "list_01 = [\"기철초풍\", \"멋있는\", \"재미있는\"]\n",
    "list_02 = [\"도전적인\", \"노란색의\", \"바보같은\"]\n",
    "list_03 = [\"돌고래\", \"개발자\", \"오랑우탄\"]\n",
    "\n",
    "str_01 = random.choice(list_01)\n",
    "str_02 = random.choice(list_02)\n",
    "str_03 = random.choice(list_03)\n",
    "\n",
    "print(\"\\n\")\n",
    "print(\"조합\", str_01+str_02+str_03)\n",
    "print(\"\\n\")"
   ]
  },
  {
   "cell_type": "code",
   "execution_count": null,
   "metadata": {},
   "outputs": [],
   "source": [
    "######## 응용 2\n",
    "dic_01 = {\"사이다\": 1700, \"콜라\":1900, \"식혜\":2500, \"솔의눈\":3000}\n",
    "choice = \"사이다\"\n",
    "print(choice, \"의 가격\", dic_01[choice])\n",
    "pay = 1500\n",
    "\n",
    "if pay < dic_01[choice]: print(\"금액이 부족합니다\")\n",
    "else: print(\"지불 완료, 거스름 돈 :\", dic_01[choice] - pay)\n",
    "print(\"\\n\")"
   ]
  },
  {
   "cell_type": "code",
   "execution_count": null,
   "metadata": {},
   "outputs": [],
   "source": [
    "######## 응용 3\n",
    "word_list = [ \"airplane\", \"apple\", \"arm\", \"bakery\", \"banana\", \"bank\", \"bean\", \"belt\", \"bicycle\", \"biography\",\n",
    "    \"blackboard\", \"boat\", \"bowl\", \"broccoli\", \"bus\", \"car\", \"carrot\", \"chair\", \"cherry\", \"cinema\", \"class\", \"classroom\",\n",
    "    \"cloud\", \"coat\", \"cucumber\", \"desk\", \"dictionary\", \"dress\", \"ear\", \"eye\", \"fog\", \"foot\", \"fork\", \"fruits\",\n",
    "    \"hail\", \"hand\", \"head\", \"helicopter\", \"hospital\", \"ice\", \"jacket\", \"kettle\", \"knife\", \"leg\", \"lettuce\", \"library\",\n",
    "    \"magazine\", \"mango\", \"melon\", \"motorcycle\",\"mouth\", \"newspaper\", \"nose\", \"notebook\", \"novel\", \"onion\", \"orange\",\n",
    "    \"peach\", \"pharmacy\", \"pineapple\", \"plate\", \"pot\", \"potato\", \"rain\", \"shirt\", \"shoe\", \"shop\", \"sink\", \"skateboard\",\n",
    "    \"ski\", \"skirt\", \"sky\", \"snow\", \"sock\", \"spinach\", \"spoon\", \"stationary\", \"stomach\", \"strawberry\", \"student\",\n",
    "    \"sun\", \"supermarket\", \"sweater\", \"teacher\", \"thunderstorm\", \"tomato\", \"trousers\", \"truck\", \"vegetables\", \"vehicles\",\n",
    "    \"watermelon\", \"wind\" ]\n",
    "\n",
    "word_num = random.randint(min(map(len, word_list)), max(map(len, word_list)))\n",
    "# print(min(map(len, word_list)), max(map(len, word_list)))\n",
    "\n",
    "temp_word_list = []\n",
    "player_life = 9\n",
    "\n",
    "for w in word_list:\n",
    "    if len(w) == word_num:\n",
    "        temp_word_list += [w] \n",
    "# print(temp_word_list)\n",
    "    \n",
    "word = random.choice(temp_word_list)\n",
    "blind_word_l = list(\"_\" * len(word))\n",
    "\n",
    "player_answers = list(\"abcdefghijklmnopqrstuvwxyz\")\n",
    "\n",
    "for pa in player_answers:\n",
    "    print(\"player_answer :\", pa)\n",
    "    if pa in word:\n",
    "        for alphabet, idx_alp in zip(word, range(len(word))):\n",
    "            if alphabet == pa:\n",
    "                blind_word_l[idx_alp] = pa\n",
    "            if \"_\" not in blind_word_l:\n",
    "                print(\"정답\", blind_word_l)\n",
    "                exit()\n",
    "        print(\"정답 현황\", blind_word_l)\n",
    "    else:\n",
    "        player_life -= 1\n",
    "        print(\"땡, player_life :\", player_life)\n",
    "    \n",
    "    if player_life <= 0:\n",
    "        print(\"실패, 정답은 :\", word)\n",
    "        exit()\n"
   ]
  }
 ],
 "metadata": {
  "kernelspec": {
   "display_name": "python_3_12",
   "language": "python",
   "name": "python_3_12"
  },
  "language_info": {
   "name": "python",
   "version": "3.12.7"
  }
 },
 "nbformat": 4,
 "nbformat_minor": 2
}
